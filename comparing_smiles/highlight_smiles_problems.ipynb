{
 "cells": [
  {
   "cell_type": "code",
   "execution_count": null,
   "id": "f3122186-60f7-468d-95df-b0a4f783eb79",
   "metadata": {
    "lines_to_next_cell": 2
   },
   "outputs": [],
   "source": [
    "\n",
    "import os\n",
    "import sys\n",
    "import numpy as np\n",
    "\n",
    "import numpy as np\n",
    "import warnings\n",
    "warnings.filterwarnings('ignore')\n",
    "from rdkit import Chem, RDLogger\n",
    "from rdkit.Chem import rdchem\n",
    "from rdkit.Chem.Draw import IPythonConsole\n",
    "from rdkit.Chem.MolStandardize import rdMolStandardize\n",
    "import pandas as pd\n",
    "import swifter\n",
    "\n",
    "RDLogger.DisableLog(\"rdApp.info\")\n",
    "\n",
    "IPythonConsole.molSize = 450, 450\n",
    "\n",
    "import pandas as pd\n",
    "\n",
    "from importlib import reload\n",
    "from ML.util import tm\n",
    "\n",
    "from compare_smiles_code import check_smiles\n",
    "import compare_smiles_code\n",
    "\n",
    "from hydrogen_parser import *\n",
    "from xyz2mol_tm.NBO_to_smiles.mol_utils import ALLOWED_OXIDATION_STATES\n",
    "\n",
    "\n",
    "IPythonConsole.drawOptions.addAtomIndices = False\n",
    "IPythonConsole.drawOptions.useSVG = True\n",
    "IPythonConsole.drawOptions.minFontSize = 24\n",
    "# IPythonConsole.drawOptions.legendFraction = 0.2\n",
    "IPythonConsole.molSize = 500, 500\n",
    "\n",
    "def print_to_file(line,file_name):\n",
    "    with open(f\"{file_name}\", \"a\") as f:\n",
    "        f.write(line + \"\\n\")"
   ]
  },
  {
   "cell_type": "markdown",
   "id": "c67da4be",
   "metadata": {},
   "source": [
    "# Highlight different cases and differences between the SMILES obtained with the 3 methods"
   ]
  },
  {
   "cell_type": "markdown",
   "id": "6e19ed6b",
   "metadata": {},
   "source": [
    "This notebooks illustrates various problems and differences between SMILES sets. "
   ]
  },
  {
   "cell_type": "markdown",
   "id": "0dc0f36c-f427-4d1d-92ed-659f12c590ed",
   "metadata": {},
   "source": [
    "### Load the smiles sets"
   ]
  },
  {
   "cell_type": "code",
   "execution_count": null,
   "id": "c0652c3a",
   "metadata": {},
   "outputs": [],
   "source": [
    "combined_frame = pd.read_csv(\"../SMILES_csvs/tmqmg_smiles.csv\")"
   ]
  },
  {
   "cell_type": "markdown",
   "id": "c8721fcb-74c0-43b7-b8b2-1334593f0f67",
   "metadata": {},
   "source": [
    "### Instantiate masks checking for invalid smiles values"
   ]
  },
  {
   "cell_type": "code",
   "execution_count": null,
   "id": "512cf2f7-e6f7-4cc7-94b4-090c429e4870",
   "metadata": {},
   "outputs": [],
   "source": [
    "mask_csd = combined_frame[\"smiles_CSD_fix\"].apply(check_smiles)\n",
    "mask_tmqmg = combined_frame[\"smiles_NBO_DFT_xyz\"].apply(check_smiles)\n",
    "mask_huckel = combined_frame[\"smiles_huckel_DFT_xyz\"].apply(check_smiles)"
   ]
  },
  {
   "cell_type": "markdown",
   "id": "6ffa2500-2b5b-49b8-b55e-6b1b56712dce",
   "metadata": {},
   "source": [
    "### How many smiles for each method?"
   ]
  },
  {
   "cell_type": "code",
   "execution_count": null,
   "id": "0d8aae52-3b1a-4458-9a9d-4a3f5107076e",
   "metadata": {},
   "outputs": [],
   "source": [
    "# Aligning the print statements\n",
    "print(f\"CSD smiles:     {len(combined_frame[mask_csd]):>5} / {len(combined_frame):>5}\")\n",
    "print(f\"NBO smiles:     {len(combined_frame[mask_tmqmg]):>5} / {len(combined_frame):>5}\")\n",
    "print(f\"Huckel smiles:  {len(combined_frame[mask_huckel]):>5} / {len(combined_frame):>5}\")\n",
    "print(f\"3 valid SMILES: {len(combined_frame[mask_csd & mask_tmqmg & mask_huckel]):>5} / {len(combined_frame):>5}\")\n"
   ]
  },
  {
   "cell_type": "code",
   "execution_count": null,
   "id": "2d9e7650",
   "metadata": {},
   "outputs": [],
   "source": [
    "not_valid_smiles = combined_frame[~(mask_csd | mask_tmqmg | mask_huckel)]\n",
    "print(f\"{len(not_valid_smiles)} does not have a valid SMILES for either approach\")\n",
    "print(\"We remove them from the dataframe\")"
   ]
  },
  {
   "cell_type": "code",
   "execution_count": null,
   "id": "5d9cca2c-f663-4daf-8cc0-10067fa80531",
   "metadata": {},
   "outputs": [],
   "source": [
    "combined_frame.drop(not_valid_smiles.index.values, inplace=True)"
   ]
  },
  {
   "cell_type": "markdown",
   "id": "7d748b7b-fb33-42b0-bebb-3226788cf8d9",
   "metadata": {},
   "source": [
    "### SMILES with incorrect formulas (missing hydrogens)"
   ]
  },
  {
   "cell_type": "code",
   "execution_count": null,
   "id": "d62bb0c0",
   "metadata": {},
   "outputs": [],
   "source": [
    "\n",
    "mask_csd = combined_frame[\"smiles_CSD_fix\"].apply(check_smiles)\n",
    "mask_tmqmg = combined_frame[\"smiles_NBO_DFT_xyz\"].apply(check_smiles)\n",
    "mask_huckel = combined_frame[\"smiles_huckel_DFT_xyz\"].apply(check_smiles)\n",
    "df = combined_frame[(mask_csd | mask_tmqmg | mask_huckel)]"
   ]
  },
  {
   "cell_type": "code",
   "execution_count": null,
   "id": "50bba8e2",
   "metadata": {},
   "outputs": [],
   "source": [
    "df[\"number_hydrogen_csd_api\"] = df[\"formula_heaviest_fragment\"].apply(parse_formula,task=\"hydrogen\")"
   ]
  },
  {
   "cell_type": "code",
   "execution_count": null,
   "id": "6c19e676",
   "metadata": {},
   "outputs": [],
   "source": [
    "# Step 2: Apply the function only to the rows where the mask is True\n",
    "df['formula_huckel_smiles'] = np.nan  # Initialize with NaN\n",
    "df.loc[mask_huckel, 'formula_huckel_smiles'] = df.loc[mask_huckel, 'smiles_huckel_DFT_xyz'].swifter.apply(get_formula_from_smiles)\n",
    "\n",
    "df['formula_csd_smiles'] = np.nan  # Initialize with NaN\n",
    "df.loc[mask_csd, 'formula_csd_smiles'] = df.loc[mask_csd, 'smiles_CSD_fix'].swifter.apply(get_formula_from_smiles)\n",
    "\n",
    "df['formula_nbo_smiles'] = np.nan  # Initialize with NaN\n",
    "df.loc[mask_tmqmg, 'formula_nbo_smiles'] = df.loc[mask_tmqmg, 'smiles_NBO_DFT_xyz'].swifter.apply(get_formula_from_smiles)\n"
   ]
  },
  {
   "cell_type": "code",
   "execution_count": null,
   "id": "e0ae474e",
   "metadata": {},
   "outputs": [],
   "source": [
    "df[\"number_hydrogen_huckel_formula\"] = df.swifter.apply(\n",
    "    lambda x: parse_formula(\n",
    "        x.formula_huckel_smiles,\n",
    "        task=\"hydrogen\",\n",
    "    ),\n",
    "    axis=1,\n",
    ")\n",
    "df[\"number_hydrogen_csd_formula\"] = df.swifter.apply(\n",
    "    lambda x: parse_formula(\n",
    "        x.formula_csd_smiles,\n",
    "        task=\"hydrogen\",\n",
    "    ),\n",
    "    axis=1,\n",
    ")\n",
    "df[\"number_hydrogen_nbo_formula\"] = df.swifter.apply(\n",
    "    lambda x: parse_formula(\n",
    "        x.formula_nbo_smiles,\n",
    "        task=\"hydrogen\",\n",
    "    ),\n",
    "    axis=1,\n",
    ")"
   ]
  },
  {
   "cell_type": "code",
   "execution_count": null,
   "id": "fcff80b7-d44e-4963-8f38-02f9b57f427e",
   "metadata": {},
   "outputs": [],
   "source": [
    "\n",
    "csd_arr = df[mask_csd][\"number_hydrogen_csd_formula\"]\n",
    "ground_truth = df[\"number_hydrogen_csd_api\"]\n",
    "nbo_arr = df[mask_tmqmg][\"number_hydrogen_nbo_formula\"]\n",
    "huckel_arr = df[mask_huckel][\"number_hydrogen_huckel_formula\"]\n",
    "\n",
    "csd_comp = csd_arr != ground_truth[mask_csd]\n",
    "nbo_comp = nbo_arr != ground_truth[mask_tmqmg]\n",
    "huckel_comp = huckel_arr != ground_truth[mask_huckel]\n",
    "\n",
    "print(f\"Number of missing hydrogens for each method:\\n\")\n",
    "print(f\"CSD {sum(csd_comp)}\")\n",
    "print(f\"NBO: {sum(nbo_comp)}\")\n",
    "print(f\"Huckel: {sum(huckel_comp)}\")\n",
    "\n"
   ]
  },
  {
   "cell_type": "code",
   "execution_count": null,
   "id": "22bb8f88",
   "metadata": {},
   "outputs": [],
   "source": [
    "all_wrong_formula = df[(csd_comp & nbo_comp & huckel_comp)]\n",
    "print(f\"{len(all_wrong_formula)} Entries have wrong or missing formula for all methods. We drop them\")"
   ]
  },
  {
   "cell_type": "code",
   "execution_count": null,
   "id": "cf9e5100-b13d-4614-a397-0d9711bfc050",
   "metadata": {},
   "outputs": [],
   "source": [
    "df.drop(all_wrong_formula.index.values, inplace=True)"
   ]
  },
  {
   "cell_type": "code",
   "execution_count": null,
   "id": "edc2c964-8b9d-4ebc-918d-5ea4514e15a6",
   "metadata": {},
   "outputs": [],
   "source": [
    "len(df)"
   ]
  },
  {
   "cell_type": "markdown",
   "id": "09e47599-a9c3-4ace-922c-b78d2f6eaa41",
   "metadata": {},
   "source": [
    "# Problematic smiles"
   ]
  },
  {
   "cell_type": "markdown",
   "id": "c6a867a8",
   "metadata": {},
   "source": [
    "### Incorrect overall charge"
   ]
  },
  {
   "cell_type": "markdown",
   "id": "e55eb792",
   "metadata": {},
   "source": [
    "The Huckel and NBO SMILES by design have the correct overall charge. However, the CSD fixed SMILES can potentially have wrong overall charges as the ligand charges are adjusted. "
   ]
  },
  {
   "cell_type": "code",
   "execution_count": null,
   "id": "6a492093-9b3c-4104-af7a-1b4e7d2ee36d",
   "metadata": {},
   "outputs": [],
   "source": [
    "m = df[mask_csd]\n",
    "wrong_overall_charge = []\n",
    "for i, row in m.iterrows():\n",
    "    dict1 = {}\n",
    "    mol = Chem.MolFromSmiles(row[\"smiles_CSD_fix\"])\n",
    "    charge = Chem.GetFormalCharge(mol)\n",
    "\n",
    "    form_charge = int(row[\"charge\"])\n",
    "\n",
    "    if charge != int(form_charge):\n",
    "        wrong_overall_charge.append(row.to_dict())\n",
    "\n",
    "df_overall_charge = pd.DataFrame(wrong_overall_charge)\n",
    "print(f\"{len(df_overall_charge)} of the fixed CSD smiles have the incorrect overall charge\")"
   ]
  },
  {
   "cell_type": "code",
   "execution_count": null,
   "id": "5722c326-f716-4699-97bc-51e4d93c34cc",
   "metadata": {},
   "outputs": [],
   "source": [
    "example_mols = [Chem.MolFromSmiles(x) for x in m[\"smiles_CSD_fix\"][0:5]]\n",
    "identifiers = [x for x in m[\"IDs\"][0:5]]\n",
    "Chem.Draw.MolsToGridImage(example_mols,subImgSize=(450,450),molsPerRow=5,maxMols=5, legends = identifiers)"
   ]
  },
  {
   "cell_type": "markdown",
   "id": "972d0dac-8e42-4dfc-99ce-dba8753e9d56",
   "metadata": {},
   "source": [
    "### Incorrect ligand charge leads to charged rings"
   ]
  },
  {
   "cell_type": "markdown",
   "id": "431131b2",
   "metadata": {},
   "source": [
    "Due to the cutoff nature of the charge assignment in the NBO, some ligands can be assigned incorrect charges. We see many cases where a ligand is assigned a charge of -2, where it should be a neutral one.\n",
    "As a result, some of the NBO SMILES have rings with alternating positive and negative charges. Examples of this are illustrated below."
   ]
  },
  {
   "cell_type": "code",
   "execution_count": null,
   "id": "3b38e45c-fa32-48e1-b40f-528d6a18c429",
   "metadata": {},
   "outputs": [],
   "source": [
    "df_nbo = df[mask_tmqmg]\n",
    "df_huckel = df[mask_huckel]\n",
    "mols = []\n",
    "for ids, s2 in zip(df_nbo[\"IDs\"], df_huckel[\"smiles_huckel_DFT_xyz\"]):\n",
    "    m2 = Chem.MolFromSmiles(s2)\n",
    "\n",
    "    rings = Chem.GetSSSR(m2)\n",
    "    if len(rings) > 0:\n",
    "        for ring in rings:\n",
    "            charges = [\n",
    "                m2.GetAtomWithIdx(idx).GetFormalCharge()\n",
    "                for idx in list(ring)\n",
    "                if m2.GetAtomWithIdx(idx).GetFormalCharge() != 0\n",
    "            ]\n",
    "        if len(charges) > 4:\n",
    "            mols.append((ids, Chem.DativeBondsToHaptic(m2)))\n",
    "\n",
    "df_charged_rings = pd.DataFrame(mols, columns=[\"IDs\",\"mols\"])\n",
    "Chem.Draw.MolsToGridImage(\n",
    "    df_charged_rings[\"mols\"],\n",
    "    legends=df_charged_rings[\"IDs\"].to_list(),\n",
    "    molsPerRow=5,\n",
    "    subImgSize=(400, 400),\n",
    "    maxMols=5,\n",
    ")"
   ]
  },
  {
   "cell_type": "code",
   "execution_count": null,
   "id": "0a77bb6a",
   "metadata": {},
   "outputs": [],
   "source": [
    "print(f\"{len(df_charged_rings)} of the NBO SMILES have super charged rings\")"
   ]
  },
  {
   "cell_type": "markdown",
   "id": "374e46bb-d4d0-4349-8fd5-cbf64951929c",
   "metadata": {},
   "source": [
    "### SMILES that have different coordinating atoms "
   ]
  },
  {
   "cell_type": "markdown",
   "id": "5188f78f",
   "metadata": {},
   "source": [
    "As the Huckel and NBO SMILES are based on DFT optimized structures, the coordination environment around the TM can be different. \n",
    "In this regard, the CSD SMILEs can be seen as the ground truth. \n",
    "Below we illustrate some examples from the Huckel SMILES where the bonds to the TM differ compared to the CSD SMILES."
   ]
  },
  {
   "cell_type": "code",
   "execution_count": null,
   "id": "cce10c43-6904-4bc8-b85b-6f224440ffc8",
   "metadata": {},
   "outputs": [],
   "source": [
    "df_compare_coordination = df[mask_csd & mask_huckel]\n",
    "\n",
    "mols = []\n",
    "for i, (ids, s2, s3) in enumerate(zip(\n",
    "    df_compare_coordination[\"IDs\"],\n",
    "    df_compare_coordination[\"smiles_CSD_fix\"],\n",
    "    df_compare_coordination[\"smiles_huckel_DFT_xyz\"],\n",
    ")):\n",
    "    # mols.append((id+' CSD',Chem.MolFromSmiles(s1, sanitize=False)))\n",
    "    m2 = Chem.MolFromSmiles(s2)\n",
    "    m3 = Chem.MolFromSmiles(s3)\n",
    "\n",
    "    a_m2 = m2.GetAtomWithIdx(m2.GetSubstructMatch(Chem.MolFromSmarts(tm))[0])\n",
    "    elements_m2 = [x.GetSymbol() for x in a_m2.GetNeighbors()]\n",
    "    a_m3 = m3.GetAtomWithIdx(m2.GetSubstructMatch(Chem.MolFromSmarts(tm))[0])\n",
    "    elements_m3 = [x.GetSymbol() for x in a_m3.GetNeighbors()]\n",
    "\n",
    "    if set(elements_m2) != set(elements_m3):\n",
    "        mols.append((ids + \" CSD\",Chem.DativeBondsToHaptic(m2)))\n",
    "        mols.append((ids+ \" Huckel\",Chem.DativeBondsToHaptic(m3)))\n",
    "        # mols.append((ids + ' xyz2mol',Chem.DativeBondsToHaptic(m3)))\n",
    "\n",
    "    # if i == 1000:\n",
    "    #     break\n",
    "\n",
    "df_different_coordination = pd.DataFrame(mols, columns=[\"IDs\",\"mols\"])\n",
    "Chem.Draw.MolsToGridImage(\n",
    "    df_different_coordination[\"mols\"],\n",
    "    legends=df_different_coordination[\"IDs\"].to_list(),\n",
    "    molsPerRow=6,\n",
    "    subImgSize=(500, 500),\n",
    "    maxMols=6,\n",
    ")"
   ]
  },
  {
   "cell_type": "code",
   "execution_count": null,
   "id": "f6bae1c9",
   "metadata": {},
   "outputs": [],
   "source": [
    "print(f\"{len(df_different_coordination)} of the huckel SMILES have different connectivity to the transition metal\")"
   ]
  },
  {
   "cell_type": "markdown",
   "id": "a78d2d58-cb42-420f-98ec-0a703d82f138",
   "metadata": {},
   "source": [
    "### SMILES that have different TM oxidation states"
   ]
  },
  {
   "cell_type": "code",
   "execution_count": null,
   "id": "6ef0c859-7ea4-4617-ac33-eb20416b9c8e",
   "metadata": {},
   "outputs": [],
   "source": [
    "\n",
    "df_compare_oxidation = df[mask_csd & mask_huckel]\n",
    "\n",
    "\n",
    "mols = []\n",
    "for ids, s2, s3 in zip(\n",
    "    df_compare_oxidation[\"IDs\"],\n",
    "    df_compare_oxidation[\"smiles_CSD_fix\"],\n",
    "    df_compare_oxidation[\"smiles_huckel_DFT_xyz\"],\n",
    "):\n",
    "    m2 = Chem.MolFromSmiles(s2)\n",
    "    m3 = Chem.MolFromSmiles(s3)\n",
    "\n",
    "    # Get TM atom\n",
    "    match2 = m2.GetSubstructMatches(Chem.MolFromSmarts(tm))\n",
    "    match3 = m3.GetSubstructMatches(Chem.MolFromSmarts(tm))\n",
    "\n",
    "    if (\n",
    "        m2.GetAtomWithIdx(match2[0][0]).GetFormalCharge()\n",
    "        != m3.GetAtomWithIdx(match3[0][0]).GetFormalCharge()\n",
    "    ):\n",
    "        mols.append((ids + \" CSD\", Chem.DativeBondsToHaptic(m2)))\n",
    "        mols.append((ids + \" Huckel\", Chem.DativeBondsToHaptic(m3)))\n",
    "        # mols.append((ids + ' xyz2mol',Chem.DativeBondsToHaptic(m3)))\n",
    "\n",
    "\n",
    "df_different_tm_odidation_state = pd.DataFrame(mols, columns=[\"IDs\", \"mols\"])\n",
    "Chem.Draw.MolsToGridImage(\n",
    "    df_different_tm_odidation_state[\"mols\"],\n",
    "    legends=df_different_tm_odidation_state[\"IDs\"].to_list(),\n",
    "    molsPerRow=6,\n",
    "    subImgSize=(400, 400),\n",
    "    maxMols=6,\n",
    ")"
   ]
  },
  {
   "cell_type": "code",
   "execution_count": null,
   "id": "9bae2dd5",
   "metadata": {},
   "outputs": [],
   "source": [
    "print(f\"{len(df_different_tm_odidation_state)} of the huckel SMILES have different oxidation states to the transition metal compared to the CSD SMILES\")"
   ]
  },
  {
   "cell_type": "markdown",
   "id": "49a5f40c-66a3-491e-bc85-1836e262554f",
   "metadata": {},
   "source": [
    "### Problematic hydrides"
   ]
  },
  {
   "cell_type": "markdown",
   "id": "f9d2c216",
   "metadata": {},
   "source": [
    "Dealing with hydride ligands can be challenging in RDKit. Hydrides are attached to the TM atom instead of beeing separate datively bond ligands. This can lead to incorrect oxidation state of the transition metal if the user is unaware.\n",
    "Below we show a single example of this. We can see that for the huckel and NBO SMILES, the hydride is attached to the TM instead of beeing seen as a separate ligand. "
   ]
  },
  {
   "cell_type": "code",
   "execution_count": null,
   "id": "f2e16dc4",
   "metadata": {},
   "outputs": [],
   "source": [
    "df[df[\"IDs\"] == \"JOWLEM\"]"
   ]
  },
  {
   "cell_type": "code",
   "execution_count": null,
   "id": "a2c0ab64-2116-4d26-b688-c3130daeb505",
   "metadata": {},
   "outputs": [],
   "source": [
    "m = Chem.MolFromSmiles(\n",
    "    df[df[\"IDs\"] == \"JOWLEM\"][\"smiles_CSD_fix\"].item()\n",
    ")\n",
    "m2 = Chem.MolFromSmiles(\n",
    "    df[df[\"IDs\"] == \"JOWLEM\"][\"smiles_huckel_DFT_xyz\"].item()\n",
    ")"
   ]
  },
  {
   "cell_type": "code",
   "execution_count": null,
   "id": "143d6f99-76d6-4425-a0e4-f2022e7a0da9",
   "metadata": {},
   "outputs": [],
   "source": [
    "Chem.Draw.MolsToGridImage([m,m2],subImgSize=(300,350))"
   ]
  },
  {
   "cell_type": "markdown",
   "id": "e256fa96",
   "metadata": {},
   "source": [
    "If we just ask for the formal charge of the TM atom it will not be correct"
   ]
  },
  {
   "cell_type": "code",
   "execution_count": null,
   "id": "4fb5d8fd",
   "metadata": {},
   "outputs": [],
   "source": [
    "m.GetAtomWithIdx(10).GetFormalCharge()"
   ]
  },
  {
   "cell_type": "markdown",
   "id": "b1ed2cce",
   "metadata": {},
   "source": [
    "The overall charge of the complex is zero. Therefore we have -1 Cl + 2*(-1)H + x = 0"
   ]
  },
  {
   "cell_type": "markdown",
   "id": "b2ee5c95",
   "metadata": {},
   "source": [
    "Meaning that the correct oxidation state of the Rh is 3+"
   ]
  },
  {
   "cell_type": "markdown",
   "id": "e14b667e",
   "metadata": {},
   "source": [
    "NB! When disconnecting the ligand, the two hydrides will still be attached to the metal."
   ]
  },
  {
   "cell_type": "code",
   "execution_count": null,
   "id": "c7d265c8",
   "metadata": {},
   "outputs": [],
   "source": [
    "disconnected_mol = compare_smiles_code.mdis.Disconnect(m)\n",
    "ms = Chem.GetMolFrags(disconnected_mol, asMols=True)\n",
    "Chem.Draw.MolsToGridImage(ms,subImgSize=(300,350))"
   ]
  },
  {
   "cell_type": "markdown",
   "id": "80c9db53-f8bb-46c6-914b-3907bf96b597",
   "metadata": {},
   "source": [
    "## Non-standard TM oxidation states"
   ]
  },
  {
   "cell_type": "markdown",
   "id": "f485e1aa",
   "metadata": {},
   "source": [
    "Some SMILES have non-standard oxidation states for the TM\n",
    "We have a list of common oxidation states for all TM atoms and if the TM does not have an oxidation state in this list, it is non-standard"
   ]
  },
  {
   "cell_type": "code",
   "execution_count": null,
   "id": "c5a69f2e",
   "metadata": {},
   "outputs": [],
   "source": [
    "ALLOWED_OXIDATION_STATES"
   ]
  },
  {
   "cell_type": "code",
   "execution_count": null,
   "id": "af4f4f90-43cc-422c-8da8-3e0baa2d731f",
   "metadata": {},
   "outputs": [],
   "source": [
    "df_non_standard_oxidation = df[mask_csd & mask_huckel]\n",
    "\n",
    "\n",
    "mols = []\n",
    "for ids, s2, s3 in zip(\n",
    "    df_non_standard_oxidation[\"IDs\"],\n",
    "    df_non_standard_oxidation[\"smiles_CSD_fix\"],\n",
    "    df_non_standard_oxidation[\"smiles_huckel_DFT_xyz\"],\n",
    "):\n",
    "    # mols.append((id+' CSD',Chem.MolFromSmiles(s1, sanitize=False)))\n",
    "    m2 = Chem.MolFromSmiles(s2)\n",
    "    m3 = Chem.MolFromSmiles(s3)\n",
    "\n",
    "    # Get TM atom\n",
    "    match2 = m2.GetSubstructMatches(Chem.MolFromSmarts(tm))\n",
    "    match3 = m3.GetSubstructMatches(Chem.MolFromSmarts(tm))\n",
    "\n",
    "    metal2 = m2.GetAtomWithIdx(match2[0][0])\n",
    "    metal3 = m3.GetAtomWithIdx(match3[0][0])\n",
    "\n",
    "    metal2_charge = metal2.GetFormalCharge()\n",
    "    metal3_charge = metal3.GetFormalCharge()\n",
    "    if (\n",
    "        metal2_charge not in ALLOWED_OXIDATION_STATES[metal2.GetSymbol()]\n",
    "    ) and metal3_charge not in ALLOWED_OXIDATION_STATES[metal3.GetSymbol()]:\n",
    "        mols.append((ids + \" CSD\",Chem.DativeBondsToHaptic(m2)))\n",
    "        mols.append((ids +\" Huckel\",Chem.DativeBondsToHaptic(m3)))\n",
    "        # mols.append((ids,ids + ' xyz2mol',Chem.DativeBondsToHaptic(m3)))\n",
    "\n",
    "\n",
    "df_non_standard_oxidation = pd.DataFrame(mols, columns=[\"IDs\",\"mols\"])\n",
    "Chem.Draw.MolsToGridImage(\n",
    "    df_non_standard_oxidation[\"mols\"],\n",
    "    legends=df_non_standard_oxidation[\"IDs\"].to_list(),\n",
    "    molsPerRow=6,\n",
    "    subImgSize=(400, 400),\n",
    "    maxMols=6,\n",
    ")"
   ]
  },
  {
   "cell_type": "code",
   "execution_count": null,
   "id": "747a5668",
   "metadata": {},
   "outputs": [],
   "source": [
    "print(f\"{len(df_non_standard_oxidation)} SMILES have non-standard oxidation states for both the fixed CSD SMILES and the huckel SMILES\")"
   ]
  },
  {
   "cell_type": "markdown",
   "id": "aa487e15",
   "metadata": {},
   "source": [
    "## 2+ vs 0 oxidation state"
   ]
  },
  {
   "cell_type": "code",
   "execution_count": null,
   "id": "ad73021f",
   "metadata": {},
   "outputs": [],
   "source": [
    "df_check_ox = df[mask_tmqmg & mask_huckel]\n",
    "\n",
    "\n",
    "mols = []\n",
    "\n",
    "mols_reverse=[]\n",
    "for ids, s2, s3 in zip(\n",
    "    df_check_ox[\"IDs\"],\n",
    "    df_check_ox[\"smiles_NBO_DFT_xyz\"],\n",
    "    df_check_ox[\"smiles_huckel_DFT_xyz\"],\n",
    "):\n",
    "    m2 = Chem.MolFromSmiles(s2)\n",
    "    m3 = Chem.MolFromSmiles(s3)\n",
    "\n",
    "    # Get TM atom\n",
    "    match2 = m2.GetSubstructMatches(Chem.MolFromSmarts(tm))\n",
    "    match3 = m3.GetSubstructMatches(Chem.MolFromSmarts(tm))\n",
    "\n",
    "    metal2 = m2.GetAtomWithIdx(match2[0][0])\n",
    "    metal3 = m3.GetAtomWithIdx(match3[0][0])\n",
    "\n",
    "    metal2_charge = metal2.GetFormalCharge()\n",
    "    metal3_charge = metal3.GetFormalCharge()\n",
    "    if (\n",
    "        metal2_charge == 2\n",
    "    ) and (metal3_charge == 0):\n",
    "        mols.append((ids + \" NBO\",Chem.DativeBondsToHaptic(m2)))\n",
    "        mols.append((ids +\" Huckel\",Chem.DativeBondsToHaptic(m3)))\n",
    "        # mols.append((ids,ids + ' xyz2mol',Chem.DativeBondsToHaptic(m3)))\n",
    "    if (\n",
    "        metal2_charge == 0\n",
    "    ) and (metal3_charge == 2):\n",
    "        mols_reverse.append((ids + \" NBO\",Chem.DativeBondsToHaptic(m2)))\n",
    "        mols_reverse.append((ids +\" Huckel\",Chem.DativeBondsToHaptic(m3)))\n",
    "        # mols.append((ids,ids + ' xyz2mol',Chem.DativeBondsToHaptic(m3)))\n",
    "    \n",
    "\n",
    "\n",
    "df_check_ox = pd.DataFrame(mols, columns=[\"IDs\",\"mols\"])"
   ]
  },
  {
   "cell_type": "code",
   "execution_count": null,
   "id": "f1fd9409",
   "metadata": {},
   "outputs": [],
   "source": [
    "\n",
    "Chem.Draw.MolsToGridImage(\n",
    "    df_check_ox[\"mols\"],\n",
    "    legends=df_check_ox[\"IDs\"].to_list(),\n",
    "    molsPerRow=6,\n",
    "    subImgSize=(400, 400),\n",
    "    maxMols=12,\n",
    ")"
   ]
  },
  {
   "cell_type": "code",
   "execution_count": null,
   "id": "0385db0d",
   "metadata": {},
   "outputs": [],
   "source": [
    "df_check_ox_reverse = pd.DataFrame(mols_reverse, columns=[\"IDs\",\"mols\"])\n",
    "Chem.Draw.MolsToGridImage(\n",
    "    df_check_ox_reverse[\"mols\"],\n",
    "    legends=df_check_ox_reverse[\"IDs\"].to_list(),\n",
    "    molsPerRow=6,\n",
    "    subImgSize=(400, 400),\n",
    "    maxMols=6,\n",
    ")"
   ]
  },
  {
   "cell_type": "code",
   "execution_count": null,
   "id": "77791840",
   "metadata": {},
   "outputs": [],
   "source": [
    "len(df_check_ox)"
   ]
  },
  {
   "cell_type": "code",
   "execution_count": null,
   "id": "302c09a8",
   "metadata": {},
   "outputs": [],
   "source": [
    "len(df_check_ox_reverse)"
   ]
  },
  {
   "cell_type": "code",
   "execution_count": null,
   "id": "70372fba",
   "metadata": {},
   "outputs": [],
   "source": [
    "draw = draw2d(df_check_ox_reverse[\"mols\"][2]).GetDrawingText()"
   ]
  },
  {
   "cell_type": "code",
   "execution_count": null,
   "id": "920518f4",
   "metadata": {},
   "outputs": [],
   "source": [
    "from io import BytesIO\n",
    "from PIL import Image\n",
    "from rdkit import Chem\n",
    "from rdkit.Chem import Draw, rdDepictor\n",
    "\n",
    "def draw2d(\n",
    "    mol: Chem.Mol,\n",
    "    legend: str = None,\n",
    "    atomLabels: dict = None,\n",
    "    atomHighlights: dict = None,\n",
    "    size=(800, 600),\n",
    "    blackwhite=True,\n",
    "):\n",
    "    \"\"\"Create 2D depiction of molecule for publication.\n",
    "\n",
    "    Args:\n",
    "        mol (Chem.Mol): Molecule to render\n",
    "        legend (str, optional): Legend string. Defaults to None.\n",
    "        atomLabels (dict, optional): Dictionary of atomindices and atomlabels, f.x.:\n",
    "                                     {17: 'H<sub>1</sub>', 18: 'H<sub>2</sub>'}.\n",
    "                                     Defaults to None.\n",
    "        atomHighlights (dict, optional): List of atoms to highlight,, f.x.:\n",
    "                                         [(9, False, (0.137, 0.561, 0.984)),\n",
    "                                         (15, True, (0, 0.553, 0))]\n",
    "                                         First item is the atomindex, second is whether\n",
    "                                         or not the highlight should be filled, and third\n",
    "                                         is the color.\n",
    "                                         Defaults to None.\n",
    "        size (tuple, optional): Size of the drawing canvas. Defaults to (800, 600).\n",
    "        blackwhite (bool, optional): Black and white color palet. Defaults to True.\n",
    "\n",
    "    Returns:\n",
    "        PIL.PNG: Image of the molecule.\n",
    "    \"\"\"\n",
    "    d2d = Draw.MolDraw2DSVG(*size)\n",
    "    rdDepictor.Compute2DCoords(mol)\n",
    "    rdDepictor.NormalizeDepiction(mol)\n",
    "    rdDepictor.StraightenDepiction(mol)\n",
    "    dopts = d2d.drawOptions()\n",
    "    dopts.legendFraction = 0.15\n",
    "    dopts.legendFontSize = 45\n",
    "    dopts.baseFontSize = 0.8\n",
    "    dopts.additionalAtomLabelPadding = 0.1\n",
    "    dopts.bondLineWidth = 1\n",
    "    dopts.prepareMolsBeforeDrawing = True\n",
    "    dopts.scaleBondWidth = False\n",
    "    if blackwhite:\n",
    "        dopts.useBWAtomPalette()\n",
    "    if atomLabels:\n",
    "        for key, value in atomLabels.items():\n",
    "            dopts.atomLabels[key] = value\n",
    "\n",
    "    if legend:\n",
    "        d2d.DrawMolecule(mol, legend=legend)\n",
    "    else:\n",
    "        d2d.DrawMolecule(mol)\n",
    "\n",
    "    alpha = 0.4\n",
    "    positions = []\n",
    "    radii = []\n",
    "    colors = []\n",
    "    filled_bools = []\n",
    "    if atomHighlights:\n",
    "        for h in atomHighlights:\n",
    "            filled = False\n",
    "            color = (0.137, 0.561, 0.984)\n",
    "            if isinstance(h, int):\n",
    "                atomIdx = h\n",
    "            elif len(h) == 2:\n",
    "                atomIdx, filled = h\n",
    "            elif len(h) == 3:\n",
    "                atomIdx, filled, color = h\n",
    "            else:\n",
    "                raise ValueError(\"Invalid atom highlight {}\".format(h))\n",
    "            point = mol.GetConformer().GetAtomPosition(int(atomIdx))\n",
    "            positions.append(Point2D(point.x, point.y))\n",
    "            radii.append(0.35)\n",
    "            colors.append(color)\n",
    "            filled_bools.append(bool(filled))\n",
    "\n",
    "        # draw filled circles first\n",
    "        for pos, radius, color, filled in zip(positions, radii, colors, filled_bools):\n",
    "            if filled:\n",
    "                color = (color[0], color[1], color[2], alpha)\n",
    "                d2d.SetColour(color)\n",
    "                d2d.SetFillPolys(True)\n",
    "                d2d.SetLineWidth(0)\n",
    "                d2d.DrawArc(pos, radius, 0.0, 360.0)\n",
    "\n",
    "        # # now draw molecule again\n",
    "        d2d.SetLineWidth(3)\n",
    "        if legend:\n",
    "            d2d.DrawMolecule(mol, legend=legend)\n",
    "        else:\n",
    "            d2d.DrawMolecule(mol)\n",
    "\n",
    "        # now draw ring highlights\n",
    "        for pos, radius, color, filled in zip(positions, radii, colors, filled_bools):\n",
    "            d2d.SetColour(color)\n",
    "            d2d.SetFillPolys(False)\n",
    "            # d2d.SetLineWidth(2.5)\n",
    "            d2d.SetLineWidth(5)\n",
    "            d2d.DrawArc(pos, radius, 0.0, 360.0)\n",
    "\n",
    "        # and draw molecule again for whatever reason\n",
    "        d2d.SetLineWidth(1)\n",
    "        if legend:\n",
    "            d2d.DrawMolecule(mol, legend=legend)\n",
    "        else:\n",
    "            d2d.DrawMolecule(mol)\n",
    "\n",
    "        # now draw ring highlights again\n",
    "        for pos, radius, color, filled in zip(positions, radii, colors, filled_bools):\n",
    "            if not filled:\n",
    "                d2d.SetColour(color)\n",
    "                d2d.SetFillPolys(False)\n",
    "                # d2d.SetLineWidth(2.5)\n",
    "                d2d.SetLineWidth(5)\n",
    "                d2d.DrawArc(pos, radius, 0.0, 360.0)\n",
    "    # finish drawing\n",
    "    d2d.FinishDrawing()\n",
    "    d2d.GetDrawingText()\n",
    "    #bio = BytesIO(d2d.GetDrawingText())\n",
    "    #img = Image.open(bio)\n",
    "    return d2d"
   ]
  },
  {
   "cell_type": "code",
   "execution_count": null,
   "id": "478c3751",
   "metadata": {},
   "outputs": [],
   "source": []
  }
 ],
 "metadata": {
  "kernelspec": {
   "display_name": "tmc_smiles_surt",
   "language": "python",
   "name": "python3"
  },
  "language_info": {
   "codemirror_mode": {
    "name": "ipython",
    "version": 3
   },
   "file_extension": ".py",
   "mimetype": "text/x-python",
   "name": "python",
   "nbconvert_exporter": "python",
   "pygments_lexer": "ipython3",
   "version": "3.10.14"
  }
 },
 "nbformat": 4,
 "nbformat_minor": 5
}
